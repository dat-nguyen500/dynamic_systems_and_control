{
 "cells": [
  {
   "cell_type": "code",
   "execution_count": 1,
   "metadata": {},
   "source": [
    "'(ch2p1)'               % Display label."
   ],
   "outputs": [
    {
     "data": {
      "text/plain": [
       "ans = '(ch2p1)'"
      ]
     },
     "metadata": {},
     "execution_count":  1,
     "output_type": "execute_result"
    }
   ]
  },
  {
   "cell_type": "code",
   "execution_count": 2,
   "metadata": {},
   "source": [
    "'How are you?'          % Display string."
   ],
   "outputs": [
    {
     "data": {
      "text/plain": [
       "ans = 'How are you?'"
      ]
     },
     "metadata": {},
     "execution_count":  2,
     "output_type": "execute_result"
    }
   ]
  },
  {
   "cell_type": "code",
   "execution_count": 3,
   "metadata": {},
   "source": [
    "-3.96                   % Display scalar number -3.96."
   ],
   "outputs": [
    {
     "data": {
      "text/plain": [
       "ans = -3.9600"
      ]
     },
     "metadata": {},
     "execution_count":  3,
     "output_type": "execute_result"
    }
   ]
  },
  {
   "cell_type": "code",
   "execution_count": 4,
   "metadata": {},
   "source": [
    "-4 + 7i                 % Display complex number -4 + 7i."
   ],
   "outputs": [
    {
     "data": {
      "text/plain": [
       "ans = -4.0000 + 7.0000i"
      ]
     },
     "metadata": {},
     "execution_count":  4,
     "output_type": "execute_result"
    }
   ]
  },
  {
   "cell_type": "code",
   "execution_count": 5,
   "metadata": {},
   "source": [
    "-5 - 6j                 % Display complex number -5 - 6j."
   ],
   "outputs": [
    {
     "data": {
      "text/plain": [
       "ans = -5.0000 - 6.0000i"
      ]
     },
     "metadata": {},
     "execution_count":  5,
     "output_type": "execute_result"
    }
   ]
  },
  {
   "cell_type": "code",
   "execution_count": 6,
   "metadata": {},
   "source": [
    "\n",
    "(-4 + 7i) + (-5 - 6i)   % Add two complex numbers and display sum."
   ],
   "outputs": [
    {
     "data": {
      "text/plain": [
       "ans = -9.0000 + 1.0000i"
      ]
     },
     "metadata": {},
     "execution_count":  6,
     "output_type": "execute_result"
    }
   ]
  },
  {
   "cell_type": "code",
   "execution_count": 7,
   "metadata": {},
   "source": [
    "(-4 + 7j) * (-5 - 6j)   % Multiply two complex numbers and display product."
   ],
   "outputs": [
    {
     "data": {
      "text/plain": [
       "ans = 62.0000 -11.0000i"
      ]
     },
     "metadata": {},
     "execution_count":  7,
     "output_type": "execute_result"
    }
   ]
  },
  {
   "cell_type": "code",
   "execution_count": 8,
   "metadata": {},
   "source": [
    "\n",
    "M = 5                   % Assign 5 to M and display."
   ],
   "outputs": [
    {
     "data": {
      "text/plain": [
       "M = 5"
      ]
     },
     "metadata": {},
     "execution_count":  8,
     "output_type": "execute_result"
    }
   ]
  },
  {
   "cell_type": "code",
   "execution_count": 9,
   "metadata": {},
   "source": [
    "N = 6                   % Assign 6 to N and display."
   ],
   "outputs": [
    {
     "data": {
      "text/plain": [
       "N = 6"
      ]
     },
     "metadata": {},
     "execution_count":  9,
     "output_type": "execute_result"
    }
   ]
  },
  {
   "cell_type": "code",
   "execution_count": 10,
   "metadata": {},
   "source": [
    "P = M + N               % Assign M + N to P and display."
   ],
   "outputs": [
    {
     "data": {
      "text/plain": [
       "P = 11"
      ]
     },
     "metadata": {},
     "execution_count":  10,
     "output_type": "execute_result"
    }
   ]
  },
  {
   "cell_type": "code",
   "execution_count": 11,
   "metadata": {},
   "source": [
    "\n",
    "Q = 3 + 4j              % Define complex number Q."
   ],
   "outputs": [
    {
     "data": {
      "text/plain": [
       "Q = 3.0000 + 4.0000i"
      ]
     },
     "metadata": {},
     "execution_count":  11,
     "output_type": "execute_result"
    }
   ]
  },
  {
   "cell_type": "code",
   "execution_count": 12,
   "metadata": {},
   "source": [
    "MagQ = abs(Q)           % Find magnitude of Q."
   ],
   "outputs": [
    {
     "data": {
      "text/plain": [
       "MagQ = 5"
      ]
     },
     "metadata": {},
     "execution_count":  12,
     "output_type": "execute_result"
    }
   ]
  },
  {
   "cell_type": "code",
   "execution_count": 13,
   "metadata": {},
   "source": [
    "ThetaQ = (180/pi) * angle(Q) % Find the angle of Q in degrees."
   ],
   "outputs": [
    {
     "data": {
      "text/plain": [
       "ThetaQ = 53.1301"
      ]
     },
     "metadata": {},
     "execution_count":  13,
     "output_type": "execute_result"
    }
   ]
  },
  {
   "cell_type": "code",
   "execution_count": 14,
   "metadata": {},
   "source": [
    "'(ch2p2)'               % Display label."
   ],
   "outputs": [
    {
     "data": {
      "text/plain": [
       "ans = '(ch2p2)'"
      ]
     },
     "metadata": {},
     "execution_count":  14,
     "output_type": "execute_result"
    }
   ]
  },
  {
   "cell_type": "code",
   "execution_count": 15,
   "metadata": {},
   "source": [
    "P1 = [1 7 -3 23]        % Store polynomial s^3 + 7s^2 - 3s + 23 as P1 and display."
   ],
   "outputs": [
    {
     "data": {
      "text/plain": [
       "P1 = 1x4\n",
       "     1     7    -3    23"
      ]
     },
     "metadata": {},
     "execution_count":  15,
     "output_type": "execute_result"
    }
   ]
  },
  {
   "cell_type": "code",
   "execution_count": 16,
   "metadata": {},
   "source": [
    "'(ch2p7)'               % Display label."
   ],
   "outputs": [
    {
     "data": {
      "text/plain": [
       "ans = '(ch2p7)'"
      ]
     },
     "metadata": {},
     "execution_count":  16,
     "output_type": "execute_result"
    }
   ]
  },
  {
   "cell_type": "code",
   "execution_count": 17,
   "metadata": {},
   "source": [
    "\n",
    "numf = [7 9 12]         % Define numerator of F(s)."
   ],
   "outputs": [
    {
     "data": {
      "text/plain": [
       "numf = 1x3\n",
       "     7     9    12"
      ]
     },
     "metadata": {},
     "execution_count":  17,
     "output_type": "execute_result"
    }
   ]
  },
  {
   "cell_type": "code",
   "execution_count": 18,
   "metadata": {},
   "source": [
    "\n",
    "denf = conv(poly([0 -7]), [1 10 100]); % Define denominator of F(s).\n",
    "\n",
    "[K, p, k] = residue(numf, denf) % Find residues and assign to K;"
   ],
   "outputs": [
    {
     "data": {
      "text/plain": [
       "K = 4x1 complex\n",
       "   0.2554 - 0.3382i\n",
       "   0.2554 + 0.3382i\n",
       "  -0.5280 + 0.0000i\n",
       "   0.0171 + 0.0000i\n",
       "p = 4x1 complex\n",
       "  -5.0000 + 8.6603i\n",
       "  -5.0000 - 8.6603i\n",
       "  -7.0000 + 0.0000i\n",
       "   0.0000 + 0.0000i\n",
       "k =\n",
       "     []"
      ]
     },
     "metadata": {},
     "execution_count":  18,
     "output_type": "execute_result"
    }
   ]
  },
  {
   "cell_type": "code",
   "execution_count": 19,
   "metadata": {},
   "source": [
    "                                 % find roots of denominator and assign to p;\n",
    "                                 % find constant and assign to k."
   ],
   "outputs": []
  },
  {
   "cell_type": "code",
   "execution_count": 20,
   "metadata": {},
   "source": [
    "'(ch2p8) Example 2.3'   % Display label."
   ],
   "outputs": [
    {
     "data": {
      "text/plain": [
       "ans = '(ch2p8) Example 2.3'"
      ]
     },
     "metadata": {},
     "execution_count":  20,
     "output_type": "execute_result"
    }
   ]
  },
  {
   "cell_type": "code",
   "execution_count": 21,
   "metadata": {},
   "source": [
    "\n",
    "numy = 32;              % Define numerator.\n",
    "deny = poly([0 -4 -8]); % Define denominator.\n",
    "\n",
    "[r, p, k] = residue(numy, deny) % Calculate residues, poles, and direct quotient."
   ],
   "outputs": [
    {
     "data": {
      "text/plain": [
       "r = 3x1\n",
       "     1\n",
       "    -2\n",
       "     1\n",
       "p = 3x1\n",
       "    -8\n",
       "    -4\n",
       "     0\n",
       "k =\n",
       "     []"
      ]
     },
     "metadata": {},
     "execution_count":  21,
     "output_type": "execute_result"
    }
   ]
  },
  {
   "cell_type": "code",
   "execution_count": 22,
   "metadata": {},
   "source": [
    "'(ch2p9)'                           % Display label."
   ],
   "outputs": [
    {
     "data": {
      "text/plain": [
       "ans = '(ch2p9)'"
      ]
     },
     "metadata": {},
     "execution_count":  22,
     "output_type": "execute_result"
    }
   ]
  },
  {
   "cell_type": "code",
   "execution_count": 23,
   "metadata": {},
   "source": [
    "'Vector Method, Polynomial Form'    % Display label."
   ],
   "outputs": [
    {
     "data": {
      "text/plain": [
       "ans = 'Vector Method, Polynomial Form'"
      ]
     },
     "metadata": {},
     "execution_count":  23,
     "output_type": "execute_result"
    }
   ]
  },
  {
   "cell_type": "code",
   "execution_count": 24,
   "metadata": {},
   "source": [
    "\n",
    "numf = 150 * [1 2 7];               % Store 150(s^2 + 2s + 7) in numf and display.\n",
    "denf = [1 5 4 0];                   % Store s(s + 1)(s + 4) in denf and display.\n",
    "\n",
    "'F(s)'                              % Display label."
   ],
   "outputs": [
    {
     "data": {
      "text/plain": [
       "ans = 'F(s)'"
      ]
     },
     "metadata": {},
     "execution_count":  24,
     "output_type": "execute_result"
    }
   ]
  },
  {
   "cell_type": "code",
   "execution_count": 25,
   "metadata": {},
   "source": [
    "F = tf(numf, denf)                  % Form F(s) and display."
   ],
   "outputs": [
    {
     "data": {
      "text/plain": [
       "F =\n",
       " \n",
       "  150 s^2 + 300 s + 1050\n",
       "  ----------------------\n",
       "    s^3 + 5 s^2 + 4 s\n",
       " \n",
       "Continuous-time transfer function.\n",
       "Model Properties"
      ]
     },
     "metadata": {},
     "execution_count":  25,
     "output_type": "execute_result"
    }
   ]
  },
  {
   "cell_type": "code",
   "execution_count": 26,
   "metadata": {},
   "source": [
    "\n",
    "clear                               % Clear previous variables from workspace.\n",
    "\n",
    "'Vector Method, Factored Form'       % Display label."
   ],
   "outputs": [
    {
     "data": {
      "text/plain": [
       "ans = 'Vector Method, Factored Form'"
      ]
     },
     "metadata": {},
     "execution_count":  26,
     "output_type": "execute_result"
    }
   ]
  },
  {
   "cell_type": "code",
   "execution_count": 27,
   "metadata": {},
   "source": [
    "\n",
    "numg = [-2 -4];                     % Store (s + 2)(s + 4) in numg and display.\n",
    "deng = [-7 -8 -9];                  % Store (s + 7)(s + 8)(s + 9) in deng and display.\n",
    "K = 20;                              % Define K.\n",
    "\n",
    "'G(s)'                              % Display label."
   ],
   "outputs": [
    {
     "data": {
      "text/plain": [
       "ans = 'G(s)'"
      ]
     },
     "metadata": {},
     "execution_count":  27,
     "output_type": "execute_result"
    }
   ]
  },
  {
   "cell_type": "code",
   "execution_count": 28,
   "metadata": {},
   "source": [
    "G = zpk(numg, deng, K)              % Form G(s) and display."
   ],
   "outputs": [
    {
     "data": {
      "text/plain": [
       "G =\n",
       " \n",
       "   20 (s+2) (s+4)\n",
       "  -----------------\n",
       "  (s+7) (s+8) (s+9)\n",
       " \n",
       "Continuous-time zero/pole/gain model.\n",
       "Model Properties"
      ]
     },
     "metadata": {},
     "execution_count":  28,
     "output_type": "execute_result"
    }
   ]
  },
  {
   "cell_type": "code",
   "execution_count": 29,
   "metadata": {},
   "source": [
    "\n",
    "clear                               % Clear previous variables from workspace.\n",
    "\n",
    "'Rational Expression Method, Polynomial Form' % Display label."
   ],
   "outputs": [
    {
     "data": {
      "text/plain": [
       "ans = 'Rational Expression Method, Polynomial Form'"
      ]
     },
     "metadata": {},
     "execution_count":  29,
     "output_type": "execute_result"
    }
   ]
  },
  {
   "cell_type": "code",
   "execution_count": 30,
   "metadata": {},
   "source": [
    "\n",
    "s = tf('s');                        % Define 's' as an LTI object in polynomial form.\n",
    "F = 150 * (s^2 + 2*s + 7) / (s * (s^2 + 5*s + 4))"
   ],
   "outputs": [
    {
     "data": {
      "text/plain": [
       "F =\n",
       " \n",
       "  150 s^2 + 300 s + 1050\n",
       "  ----------------------\n",
       "    s^3 + 5 s^2 + 4 s\n",
       " \n",
       "Continuous-time transfer function.\n",
       "Model Properties"
      ]
     },
     "metadata": {},
     "execution_count":  30,
     "output_type": "execute_result"
    }
   ]
  },
  {
   "cell_type": "code",
   "execution_count": 31,
   "metadata": {},
   "source": [
    "                                    % Form F(s) as an LTI transfer function in polynomial form.\n",
    "G = 20 * (s + 2) * (s + 4) / ((s + 7) * (s + 8) * (s + 9))"
   ],
   "outputs": [
    {
     "data": {
      "text/plain": [
       "G =\n",
       " \n",
       "     20 s^2 + 120 s + 160\n",
       "  --------------------------\n",
       "  s^3 + 24 s^2 + 191 s + 504\n",
       " \n",
       "Continuous-time transfer function.\n",
       "Model Properties"
      ]
     },
     "metadata": {},
     "execution_count":  31,
     "output_type": "execute_result"
    }
   ]
  },
  {
   "cell_type": "code",
   "execution_count": 32,
   "metadata": {},
   "source": [
    "                                    % Form G(s) as an LTI transfer function in polynomial form.\n",
    "\n",
    "clear                               % Clear previous variables from workspace.\n",
    "\n",
    "'Rational Expression Method, Factored Form'  % Display label."
   ],
   "outputs": [
    {
     "data": {
      "text/plain": [
       "ans = 'Rational Expression Method, Factored Form'"
      ]
     },
     "metadata": {},
     "execution_count":  32,
     "output_type": "execute_result"
    }
   ]
  },
  {
   "cell_type": "code",
   "execution_count": 33,
   "metadata": {},
   "source": [
    "\n",
    "s = zpk('s');                       % Define 's' as an LTI object in factored form.\n",
    "F = 150 * (s^2 + 2*s + 7) / (s * (s^2 + 5*s + 4))"
   ],
   "outputs": [
    {
     "data": {
      "text/plain": [
       "F =\n",
       " \n",
       "  150 (s^2 + 2s + 7)\n",
       "  ------------------\n",
       "    s (s+1) (s+4)\n",
       " \n",
       "Continuous-time zero/pole/gain model.\n",
       "Model Properties"
      ]
     },
     "metadata": {},
     "execution_count":  33,
     "output_type": "execute_result"
    }
   ]
  },
  {
   "cell_type": "code",
   "execution_count": 34,
   "metadata": {},
   "source": [
    "                                    % Form F(s) as an LTI transfer function in factored form.\n",
    "G = 20 * (s + 2) * (s + 4) / ((s + 7) * (s + 8) * (s + 9))"
   ],
   "outputs": [
    {
     "data": {
      "text/plain": [
       "G =\n",
       " \n",
       "   20 (s+2) (s+4)\n",
       "  -----------------\n",
       "  (s+7) (s+8) (s+9)\n",
       " \n",
       "Continuous-time zero/pole/gain model.\n",
       "Model Properties"
      ]
     },
     "metadata": {},
     "execution_count":  34,
     "output_type": "execute_result"
    }
   ]
  },
  {
   "cell_type": "code",
   "execution_count": 35,
   "metadata": {},
   "source": [
    "                                    % Form G(s) as an LTI transfer function in factored form."
   ],
   "outputs": []
  },
  {
   "cell_type": "code",
   "execution_count": 36,
   "metadata": {},
   "source": [
    "'(ch2p10)'                     % Display label."
   ],
   "outputs": [
    {
     "data": {
      "text/plain": [
       "ans = '(ch2p10)'"
      ]
     },
     "metadata": {},
     "execution_count":  36,
     "output_type": "execute_result"
    }
   ]
  },
  {
   "cell_type": "code",
   "execution_count": 37,
   "metadata": {},
   "source": [
    "\n",
    "'Coefficients for F(s)'        % Display label."
   ],
   "outputs": [
    {
     "data": {
      "text/plain": [
       "ans = 'Coefficients for F(s)'"
      ]
     },
     "metadata": {},
     "execution_count":  37,
     "output_type": "execute_result"
    }
   ]
  },
  {
   "cell_type": "code",
   "execution_count": 38,
   "metadata": {},
   "source": [
    "numftf = [10 40 60];           % Form numerator of F(s) = (10s^2 + 40s + 60) / (s^3 + 4s^2 + 5s + 7).\n",
    "denftf = [1 4 5 7];            % Form denominator of F(s).\n",
    "\n",
    "'Roots for F(s)'               % Display label."
   ],
   "outputs": [
    {
     "data": {
      "text/plain": [
       "ans = 'Roots for F(s)'"
      ]
     },
     "metadata": {},
     "execution_count":  38,
     "output_type": "execute_result"
    }
   ]
  },
  {
   "cell_type": "code",
   "execution_count": 39,
   "metadata": {},
   "source": [
    "[numfzp, denfzp] = tf2zp(numftf, denftf)"
   ],
   "outputs": [
    {
     "data": {
      "text/plain": [
       "numfzp = 2x1 complex\n",
       "  -2.0000 + 1.4142i\n",
       "  -2.0000 - 1.4142i\n",
       "denfzp = 3x1 complex\n",
       "  -3.1163 + 0.0000i\n",
       "  -0.4418 + 1.4321i\n",
       "  -0.4418 - 1.4321i"
      ]
     },
     "metadata": {},
     "execution_count":  39,
     "output_type": "execute_result"
    }
   ]
  },
  {
   "cell_type": "code",
   "execution_count": 40,
   "metadata": {},
   "source": [
    "                               % Convert F(s) to factored form.\n",
    "\n",
    "'Roots for G(s)'               % Display label."
   ],
   "outputs": [
    {
     "data": {
      "text/plain": [
       "ans = 'Roots for G(s)'"
      ]
     },
     "metadata": {},
     "execution_count":  40,
     "output_type": "execute_result"
    }
   ]
  },
  {
   "cell_type": "code",
   "execution_count": 41,
   "metadata": {},
   "source": [
    "numgzp = [-2 -4];             % Form numerator of G(s) = 10(s + 2)(s + 4).\n",
    "K = 10;                        % Define K.\n",
    "dengzp = [0 -3 -5];            % Form denominator of G(s) = 10(s + 2)(s + 4) / [s(s + 3)(s + 5)].\n",
    "\n",
    "'Coefficients for G(s)'        % Display label."
   ],
   "outputs": [
    {
     "data": {
      "text/plain": [
       "ans = 'Coefficients for G(s)'"
      ]
     },
     "metadata": {},
     "execution_count":  41,
     "output_type": "execute_result"
    }
   ]
  },
  {
   "cell_type": "code",
   "execution_count": 42,
   "metadata": {},
   "source": [
    "[numgtf, dengtf] = zp2tf(numgzp', dengzp', K)"
   ],
   "outputs": [
    {
     "data": {
      "text/plain": [
       "numgtf = 1x4\n",
       "     0    10    60    80\n",
       "dengtf = 1x4\n",
       "     1     8    15     0"
      ]
     },
     "metadata": {},
     "execution_count":  42,
     "output_type": "execute_result"
    }
   ]
  },
  {
   "cell_type": "code",
   "execution_count": 43,
   "metadata": {},
   "source": [
    "                               % Convert G(s) to polynomial form."
   ],
   "outputs": []
  },
  {
   "cell_type": "code",
   "execution_count": 44,
   "metadata": {},
   "source": [
    "'(ch2p11)'                     % Display label."
   ],
   "outputs": [
    {
     "data": {
      "text/plain": [
       "ans = '(ch2p11)'"
      ]
     },
     "metadata": {},
     "execution_count":  44,
     "output_type": "execute_result"
    }
   ]
  },
  {
   "cell_type": "code",
   "execution_count": 45,
   "metadata": {},
   "source": [
    "\n",
    "'Fzpk1(s)'                     % Display label."
   ],
   "outputs": [
    {
     "data": {
      "text/plain": [
       "ans = 'Fzpk1(s)'"
      ]
     },
     "metadata": {},
     "execution_count":  45,
     "output_type": "execute_result"
    }
   ]
  },
  {
   "cell_type": "code",
   "execution_count": 46,
   "metadata": {},
   "source": [
    "Fzpk1 = zpk([-2 -4], [0 -3 -5], 10);\n",
    "                                % Form Fzpk1(s) = 10(s + 2)(s + 4) / [s(s + 3)(s + 5)].\n",
    "\n",
    "'Ftf1'                         % Display label."
   ],
   "outputs": [
    {
     "data": {
      "text/plain": [
       "ans = 'Ftf1'"
      ]
     },
     "metadata": {},
     "execution_count":  46,
     "output_type": "execute_result"
    }
   ]
  },
  {
   "cell_type": "code",
   "execution_count": 47,
   "metadata": {},
   "source": [
    "Ftf1 = tf(Fzpk1);              % Convert Fzpk1(s) to coefficient form.\n",
    "\n",
    "'Ftf2'                         % Display label."
   ],
   "outputs": [
    {
     "data": {
      "text/plain": [
       "ans = 'Ftf2'"
      ]
     },
     "metadata": {},
     "execution_count":  47,
     "output_type": "execute_result"
    }
   ]
  },
  {
   "cell_type": "code",
   "execution_count": 48,
   "metadata": {},
   "source": [
    "Ftf2 = tf([10 40 60], [1 4 5 7]);\n",
    "                                % Form Ftf2(s) = (10s^2 + 40s + 60) / (s^3 + 4s^2 + 5s + 7).\n",
    "\n",
    "'Fzpk2'                        % Display label."
   ],
   "outputs": [
    {
     "data": {
      "text/plain": [
       "ans = 'Fzpk2'"
      ]
     },
     "metadata": {},
     "execution_count":  48,
     "output_type": "execute_result"
    }
   ]
  },
  {
   "cell_type": "code",
   "execution_count": 49,
   "metadata": {},
   "source": [
    "Fzpk2 = zpk(Ftf2);             % Convert Ftf2(s) to factored form."
   ],
   "outputs": []
  },
  {
   "cell_type": "code",
   "execution_count": 50,
   "metadata": {},
   "source": [
    "'(ch2p12)'                 % Display label."
   ],
   "outputs": [
    {
     "data": {
      "text/plain": [
       "ans = '(ch2p12)'"
      ]
     },
     "metadata": {},
     "execution_count":  50,
     "output_type": "execute_result"
    }
   ]
  },
  {
   "cell_type": "code",
   "execution_count": 51,
   "metadata": {},
   "source": [
    "\n",
    "t = 0:0.01:10;             % Specify time range and increment.\n",
    "f1 = cos(5 * t);           % Define f1 as cos(5t).\n",
    "f2 = sin(5 * t);           % Define f2 as sin(5t).\n",
    "\n",
    "plot(t, f1, 'r', t, f2, 'g');  % Plot f1 in red and f2 in green."
   ],
   "outputs": [
    {
     "data": {
      "text/html": [
       "<center><img src=\"data:image/png;base64,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\" width=\"585\" alt=\"figure_0.png\"></center>"
      ]
     },
     "metadata": {},
     "execution_count":  51,
     "output_type": "execute_result"
    }
   ]
  }
 ],
 "metadata": {
  "kernelspec": {
   "display_name": "MATLAB (matlabkernel)",
   "language": "matlab",
   "name": "matlab"
  },
  "language_info": {
   "file_extension": ".m",
   "mimetype": "text/matlab",
   "name": "matlab",
   "nbconvert_exporter": "matlab",
   "pygments_lexer": "matlab",
   "version": "24.2.0.2871072"
  }
 },
 "nbformat": 4,
 "nbformat_minor": 4
}
